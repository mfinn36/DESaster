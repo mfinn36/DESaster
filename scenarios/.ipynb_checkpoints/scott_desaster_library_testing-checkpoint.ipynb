{
 "cells": [
  {
   "cell_type": "markdown",
   "metadata": {},
   "source": [
    "# DESaster Simulation Set Up Template"
   ]
  },
  {
   "cell_type": "markdown",
   "metadata": {},
   "source": [
    "## Required Modules"
   ]
  },
  {
   "cell_type": "code",
<<<<<<< HEAD
   "execution_count": 133,
=======
   "execution_count": 20,
>>>>>>> scotts-branch
   "metadata": {
    "collapsed": false
   },
   "outputs": [],
   "source": [
    "import sys, random\n",
    "desaster_path = \"/Users/geomando/Dropbox/github/SeaGrantSimulation\"\n",
    "sys.path.append(desaster_path)\n",
    "import simpy\n",
    "from simpy import Resource, Container, FilterStore\n",
    "from simpy.util import start_delayed\n",
    "import pandas as pd\n",
    "import numpy as np\n",
    "from desaster import entities, capitals, request, io, movement, search, rebuild"
   ]
  },
  {
   "cell_type": "markdown",
   "metadata": {},
   "source": [
    "## Input Data"
   ]
  },
  {
   "cell_type": "code",
<<<<<<< HEAD
   "execution_count": 134,
   "metadata": {
    "collapsed": true
   },
   "outputs": [],
   "source": [
    "scenario_file = '../inputs/scenario_test1.xlsx'\n",
    "\n",
    "# Create Pandas dataframe of attribute data for all households to be modeled in the simulation\n",
    "households_df = pd.read_excel(scenario_file, sheet_name='households')\n",
    "\n",
    "# Create Pandas dataframe of attribute data for all vacant homes (housing stock) to be modeled in the simulation\n",
    "housing_stock_df = pd.read_excel(scenario_file, sheet_name='housing_stock')\n",
=======
   "execution_count": 21,
   "metadata": {
    "collapsed": false
   },
   "outputs": [],
   "source": [
    "scenario_file = '../inputs/scenario_test_renters.xlsx'\n",
    "\n",
    "# Create Pandas dataframe of attribute data for all households to be modeled in the simulation\n",
    "households_df = pd.read_excel(scenario_file, sheet_name='owners')\n",
    "\n",
    "# Create Pandas dataframe of attribute data for all vacant homes (housing stock) to be modeled in the simulation\n",
    "vacant_stock_df = pd.read_excel(scenario_file, sheet_name='forsale_stock')\n",
>>>>>>> scotts-branch
    "\n",
    "# Set input data for all human capital types, as dict or Pandas Series\n",
    "# .loc stuff is to convert the DataFrame to a Series ... data will function the same as a dictionary as well\n",
    "human_cap_data = pd.read_excel(scenario_file, sheet_name='human_capital', index_col=0).iloc[:,0]\n",
    "\n",
    "# Set input data for all financial capital types, as dict or Pandas Series\n",
    "financial_cap_data = pd.read_excel(scenario_file, sheet_name='financial_capital', index_col=0).iloc[:,0]"
   ]
  },
  {
   "cell_type": "code",
<<<<<<< HEAD
   "execution_count": 135,
=======
   "execution_count": 22,
>>>>>>> scotts-branch
   "metadata": {
    "collapsed": false,
    "scrolled": true
   },
   "outputs": [
    {
     "data": {
      "text/html": [
       "<div>\n",
       "<table border=\"1\" class=\"dataframe\">\n",
       "  <thead>\n",
       "    <tr style=\"text-align: right;\">\n",
       "      <th></th>\n",
       "      <th>Name</th>\n",
       "      <th>Income</th>\n",
       "      <th>Savings</th>\n",
       "      <th>Insurance</th>\n",
       "      <th>Address</th>\n",
       "      <th>Occupancy</th>\n",
       "      <th>Cost</th>\n",
       "      <th>Bedrooms</th>\n",
       "      <th>Bathrooms</th>\n",
       "      <th>Area</th>\n",
       "      <th>Year Built</th>\n",
       "      <th>Value</th>\n",
       "      <th>Damage State</th>\n",
       "      <th>Tenure Pref</th>\n",
       "      <th>Tenure</th>\n",
       "      <th>Occupancy Pref</th>\n",
       "    </tr>\n",
       "  </thead>\n",
       "  <tbody>\n",
       "    <tr>\n",
       "      <th>0</th>\n",
       "      <td>Alfred</td>\n",
       "      <td>30000</td>\n",
       "      <td>0</td>\n",
       "      <td>0</td>\n",
       "      <td>62 That St</td>\n",
       "      <td>Mobile Home</td>\n",
       "      <td>1500</td>\n",
       "      <td>1</td>\n",
       "      <td>1</td>\n",
       "      <td>700</td>\n",
       "      <td>1920</td>\n",
       "      <td>100000</td>\n",
<<<<<<< HEAD
       "      <td>None</td>\n",
=======
       "      <td>Complete</td>\n",
       "      <td>Own</td>\n",
       "      <td>Own</td>\n",
       "      <td>Single Family Dwelling</td>\n",
>>>>>>> scotts-branch
       "    </tr>\n",
       "    <tr>\n",
       "      <th>1</th>\n",
       "      <td>Bruce</td>\n",
       "      <td>100000</td>\n",
       "      <td>1000000</td>\n",
       "      <td>10000000</td>\n",
       "      <td>720 This Rd</td>\n",
       "      <td>Single Family Dwelling</td>\n",
       "      <td>3500</td>\n",
       "      <td>5</td>\n",
       "      <td>5</td>\n",
       "      <td>5000</td>\n",
       "      <td>1920</td>\n",
       "      <td>10000000</td>\n",
       "      <td>Slight</td>\n",
       "      <td>Own</td>\n",
       "      <td>Own</td>\n",
       "      <td>Single Family Dwelling</td>\n",
       "    </tr>\n",
       "    <tr>\n",
       "      <th>2</th>\n",
       "      <td>Selena</td>\n",
       "      <td>10000</td>\n",
       "      <td>100</td>\n",
       "      <td>0</td>\n",
       "      <td>1001 Other Ave</td>\n",
       "      <td>Single Family Dwelling</td>\n",
       "      <td>1000</td>\n",
       "      <td>0</td>\n",
       "      <td>1</td>\n",
       "      <td>250</td>\n",
       "      <td>1960</td>\n",
       "      <td>10000</td>\n",
       "      <td>Complete</td>\n",
<<<<<<< HEAD
=======
       "      <td>Own</td>\n",
       "      <td>Own</td>\n",
       "      <td>Single Family Dwelling</td>\n",
>>>>>>> scotts-branch
       "    </tr>\n",
       "    <tr>\n",
       "      <th>3</th>\n",
       "      <td>Fish</td>\n",
       "      <td>50000</td>\n",
       "      <td>1000</td>\n",
       "      <td>550000</td>\n",
       "      <td>26000 Out There Lane</td>\n",
       "      <td>Single Family Dwelling</td>\n",
       "      <td>3000</td>\n",
       "      <td>4</td>\n",
       "      <td>2</td>\n",
       "      <td>2000</td>\n",
       "      <td>2010</td>\n",
       "      <td>800000</td>\n",
       "      <td>Moderate</td>\n",
       "      <td>Own</td>\n",
       "      <td>Own</td>\n",
       "      <td>Single Family Dwelling</td>\n",
       "    </tr>\n",
       "  </tbody>\n",
       "</table>\n",
       "</div>"
      ],
      "text/plain": [
       "     Name  Income  Savings  Insurance               Address  \\\n",
       "0  Alfred   30000        0          0            62 That St   \n",
       "1   Bruce  100000  1000000   10000000           720 This Rd   \n",
       "2  Selena   10000      100          0        1001 Other Ave   \n",
       "3    Fish   50000     1000     550000  26000 Out There Lane   \n",
       "\n",
       "                Occupancy  Cost  Bedrooms  Bathrooms  Area  Year Built  \\\n",
       "0             Mobile Home  1500         1          1   700        1920   \n",
       "1  Single Family Dwelling  3500         5          5  5000        1920   \n",
       "2  Single Family Dwelling  1000         0          1   250        1960   \n",
       "3  Single Family Dwelling  3000         4          2  2000        2010   \n",
       "\n",
<<<<<<< HEAD
       "      Value Damage State  \n",
       "0    100000         None  \n",
       "1  10000000       Slight  \n",
       "2     10000     Complete  \n",
       "3    800000     Moderate  "
      ]
     },
     "execution_count": 135,
=======
       "      Value Damage State Tenure Pref Tenure          Occupancy Pref  \n",
       "0    100000     Complete         Own    Own  Single Family Dwelling  \n",
       "1  10000000       Slight         Own    Own  Single Family Dwelling  \n",
       "2     10000     Complete         Own    Own  Single Family Dwelling  \n",
       "3    800000     Moderate         Own    Own  Single Family Dwelling  "
      ]
     },
     "execution_count": 22,
>>>>>>> scotts-branch
     "metadata": {},
     "output_type": "execute_result"
    }
   ],
   "source": [
    "households_df"
   ]
  },
  {
   "cell_type": "code",
<<<<<<< HEAD
   "execution_count": 136,
=======
   "execution_count": 23,
>>>>>>> scotts-branch
   "metadata": {
    "collapsed": false
   },
   "outputs": [
    {
     "data": {
      "text/html": [
       "<div>\n",
       "<table border=\"1\" class=\"dataframe\">\n",
       "  <thead>\n",
       "    <tr style=\"text-align: right;\">\n",
       "      <th></th>\n",
       "      <th>Address</th>\n",
       "      <th>Occupancy</th>\n",
       "      <th>Cost</th>\n",
       "      <th>Bedrooms</th>\n",
       "      <th>Bathrooms</th>\n",
       "      <th>Area</th>\n",
       "      <th>Year Built</th>\n",
       "      <th>Value</th>\n",
       "      <th>Damage State</th>\n",
       "    </tr>\n",
       "  </thead>\n",
       "  <tbody>\n",
       "    <tr>\n",
       "      <th>0</th>\n",
       "      <td>100 New Ave</td>\n",
       "      <td>Mobile Home</td>\n",
       "      <td>100</td>\n",
       "      <td>1</td>\n",
       "      <td>1</td>\n",
       "      <td>700</td>\n",
       "      <td>1920</td>\n",
       "      <td>99999</td>\n",
<<<<<<< HEAD
       "      <td>Complete</td>\n",
=======
       "      <td>Slight</td>\n",
>>>>>>> scotts-branch
       "    </tr>\n",
       "    <tr>\n",
       "      <th>1</th>\n",
       "      <td>101 New Ave</td>\n",
       "      <td>Single Family Dwelling</td>\n",
       "      <td>100000</td>\n",
       "      <td>6</td>\n",
       "      <td>5</td>\n",
       "      <td>5000</td>\n",
       "      <td>1920</td>\n",
       "      <td>9999</td>\n",
       "      <td>Complete</td>\n",
       "    </tr>\n",
       "    <tr>\n",
       "      <th>2</th>\n",
       "      <td>102 New Ave</td>\n",
       "      <td>Multi Family Dwelling</td>\n",
       "      <td>10</td>\n",
       "      <td>0</td>\n",
       "      <td>1</td>\n",
       "      <td>250</td>\n",
       "      <td>1960</td>\n",
       "      <td>9999</td>\n",
       "      <td>Complete</td>\n",
       "    </tr>\n",
       "    <tr>\n",
       "      <th>3</th>\n",
       "      <td>103 New Ave</td>\n",
       "      <td>Single Family Dwelling</td>\n",
       "      <td>2000</td>\n",
       "      <td>4</td>\n",
       "      <td>2</td>\n",
       "      <td>2000</td>\n",
       "      <td>2010</td>\n",
       "      <td>800000</td>\n",
<<<<<<< HEAD
       "      <td>Complete</td>\n",
       "    </tr>\n",
       "    <tr>\n",
       "      <th>4</th>\n",
       "      <td>104 New Ave</td>\n",
       "      <td>Mobile Home</td>\n",
       "      <td>100</td>\n",
       "      <td>1</td>\n",
       "      <td>1</td>\n",
       "      <td>700</td>\n",
       "      <td>1920</td>\n",
       "      <td>100000</td>\n",
=======
>>>>>>> scotts-branch
       "      <td>Complete</td>\n",
       "    </tr>\n",
       "  </tbody>\n",
       "</table>\n",
       "</div>"
      ],
      "text/plain": [
       "       Address               Occupancy    Cost  Bedrooms  Bathrooms  Area  \\\n",
       "0  100 New Ave             Mobile Home     100         1          1   700   \n",
       "1  101 New Ave  Single Family Dwelling  100000         6          5  5000   \n",
       "2  102 New Ave   Multi Family Dwelling      10         0          1   250   \n",
       "3  103 New Ave  Single Family Dwelling    2000         4          2  2000   \n",
<<<<<<< HEAD
       "4  104 New Ave             Mobile Home     100         1          1   700   \n",
       "\n",
       "   Year Built   Value Damage State  \n",
       "0        1920   99999     Complete  \n",
       "1        1920    9999     Complete  \n",
       "2        1960    9999     Complete  \n",
       "3        2010  800000     Complete  \n",
       "4        1920  100000     Complete  "
      ]
     },
     "execution_count": 136,
=======
       "\n",
       "   Year Built   Value Damage State  \n",
       "0        1920   99999       Slight  \n",
       "1        1920    9999     Complete  \n",
       "2        1960    9999     Complete  \n",
       "3        2010  800000     Complete  "
      ]
     },
     "execution_count": 23,
>>>>>>> scotts-branch
     "metadata": {},
     "output_type": "execute_result"
    }
   ],
   "source": [
<<<<<<< HEAD
    "housing_stock_df.head()"
=======
    "vacant_stock_df.head()"
>>>>>>> scotts-branch
   ]
  },
  {
   "cell_type": "code",
<<<<<<< HEAD
   "execution_count": 137,
=======
   "execution_count": 24,
>>>>>>> scotts-branch
   "metadata": {
    "collapsed": false
   },
   "outputs": [
    {
     "data": {
      "text/plain": [
       "Type\n",
       "Contractors             40\n",
<<<<<<< HEAD
       "Engineers                1\n",
       "FEMA Processors         40\n",
       "Inspectors             100\n",
=======
       "Engineers               20\n",
       "FEMA Processors         40\n",
       "Inspectors               4\n",
>>>>>>> scotts-branch
       "Insurance Adjusters     40\n",
       "Loan Processors         40\n",
       "Permit Processors      100\n",
       "Name: Quantity, dtype: int64"
      ]
     },
<<<<<<< HEAD
     "execution_count": 137,
=======
     "execution_count": 24,
>>>>>>> scotts-branch
     "metadata": {},
     "output_type": "execute_result"
    }
   ],
   "source": [
    "human_cap_data"
   ]
  },
  {
   "cell_type": "code",
<<<<<<< HEAD
   "execution_count": 138,
=======
   "execution_count": 25,
>>>>>>> scotts-branch
   "metadata": {
    "collapsed": false
   },
   "outputs": [
    {
     "data": {
      "text/plain": [
       "Type\n",
       "Building Materials     2000000\n",
       "FEMA Aid              35000000\n",
       "Name: Quantity, dtype: int64"
      ]
     },
<<<<<<< HEAD
     "execution_count": 138,
=======
     "execution_count": 25,
>>>>>>> scotts-branch
     "metadata": {},
     "output_type": "execute_result"
    }
   ],
   "source": [
    "financial_cap_data"
   ]
  },
  {
   "cell_type": "markdown",
   "metadata": {},
   "source": [
    "## Simulation Initiation"
   ]
  },
  {
   "cell_type": "markdown",
   "metadata": {},
   "source": [
    "__Set simulation environment__"
   ]
  },
  {
   "cell_type": "code",
<<<<<<< HEAD
   "execution_count": 139,
=======
   "execution_count": 26,
>>>>>>> scotts-branch
   "metadata": {
    "collapsed": true
   },
   "outputs": [],
   "source": [
    "simulation = simpy.Environment()"
   ]
  },
  {
   "cell_type": "markdown",
   "metadata": {},
   "source": [
    "__Indicate whether want to keep track of the stories of each entity (household) in the simulation.__"
   ]
  },
  {
   "cell_type": "code",
<<<<<<< HEAD
   "execution_count": 140,
=======
   "execution_count": 27,
>>>>>>> scotts-branch
   "metadata": {
    "collapsed": true
   },
   "outputs": [],
   "source": [
    "write_story = True"
   ]
  },
  {
   "cell_type": "markdown",
   "metadata": {},
   "source": [
    "__Populate the simulation with human and financial capital data.__"
   ]
  },
  {
   "cell_type": "code",
<<<<<<< HEAD
   "execution_count": 141,
=======
   "execution_count": 28,
>>>>>>> scotts-branch
   "metadata": {
    "collapsed": true
   },
   "outputs": [],
   "source": [
    "financial_capital = capitals.FinancialCapital(simulation, financial_cap_data) \n",
    "\n",
    "human_capital = capitals.HumanCapital(simulation, human_cap_data)"
   ]
  },
  {
   "cell_type": "markdown",
   "metadata": {},
   "source": [
    "__Create and populate a FilterStore as a vacant housing stock.__"
   ]
  },
  {
   "cell_type": "code",
   "execution_count": 29,
   "metadata": {
    "collapsed": true
   },
   "outputs": [],
   "source": [
    "vacant_stock = capitals.importHousingStock(simulation, vacant_stock_df)"
   ]
  },
  {
   "cell_type": "markdown",
   "metadata": {},
   "source": [
    "__Create an empty FilterStore to use as the occupied housing stock.__"
   ]
  },
  {
   "cell_type": "code",
   "execution_count": 30,
   "metadata": {
    "collapsed": false
   },
   "outputs": [
    {
     "data": {
      "text/plain": [
       "[]"
      ]
     },
     "execution_count": 30,
     "metadata": {},
     "output_type": "execute_result"
    }
   ],
   "source": [
    "occupied_stock = FilterStore(simulation)\n",
    "occupied_stock.items # Nothing in the FilterStore"
   ]
  },
  {
   "cell_type": "markdown",
   "metadata": {},
   "source": [
    "__Import data on households. Everytime a household's residence is created put it in the occupied housing stock.__"
   ]
  },
  {
   "cell_type": "code",
   "execution_count": 31,
   "metadata": {
    "collapsed": false
   },
   "outputs": [],
   "source": [
    "households = entities.importOwners(simulation, occupied_stock, households_df, write_story)"
   ]
  },
  {
   "cell_type": "code",
   "execution_count": 32,
   "metadata": {
    "collapsed": false
   },
   "outputs": [
    {
     "data": {
      "text/plain": [
       "0"
      ]
     },
     "execution_count": 32,
     "metadata": {},
     "output_type": "execute_result"
    }
   ],
   "source": [
    "households[0].recovery_funds"
   ]
  },
  {
   "cell_type": "markdown",
   "metadata": {},
   "source": [
    "__After households have been imported, occupied housing stock has been populated.__"
   ]
  },
  {
   "cell_type": "code",
   "execution_count": 33,
   "metadata": {
    "collapsed": false
   },
   "outputs": [
    {
     "data": {
      "text/plain": [
       "[<desaster.capitals.Residence at 0x114787e80>,\n",
       " <desaster.capitals.Residence at 0x114787828>,\n",
       " <desaster.capitals.Residence at 0x11477d198>,\n",
       " <desaster.capitals.Residence at 0x11477d2b0>]"
      ]
     },
     "execution_count": 33,
     "metadata": {},
     "output_type": "execute_result"
    }
   ],
   "source": [
    "occupied_stock.items"
   ]
  },
  {
   "cell_type": "markdown",
   "metadata": {},
   "source": [
    "__Prove that the same Residence() object is referenced by both the Household() object and the FilterStore.__"
   ]
  },
  {
   "cell_type": "code",
   "execution_count": 34,
   "metadata": {
    "collapsed": false
   },
   "outputs": [
    {
     "data": {
      "text/plain": [
       "True"
      ]
     },
     "execution_count": 34,
     "metadata": {},
     "output_type": "execute_result"
    }
   ],
   "source": [
    "households[0].residence == occupied_stock.items[0]"
   ]
  },
  {
   "cell_type": "markdown",
   "metadata": {},
   "source": [
    "__Write a master process that combines process and functions from search, rebuild, and request modules.__"
   ]
  },
  {
   "cell_type": "code",
<<<<<<< HEAD
   "execution_count": 142,
=======
   "execution_count": 35,
>>>>>>> scotts-branch
   "metadata": {
    "collapsed": false
   },
   "outputs": [],
   "source": [
    "def master_process(simulation, human_capital, financial_capital, entity, write_story):\n",
    "        \n",
    "    yield simulation.process(request.inspection(simulation, human_capital, entity.residence, entity, write_story))\n",
    "    \n",
    "    # Specify the event sequence for households from the time of the hazard through the decisions to relocate \n",
    "    # or rebuild\n",
    "    if entity.residence.damage_state != 'None':\n",
    "        \n",
    "        money_patience = 365  # days until give up the search for rebuild money\n",
    "\n",
    "        # Search for rebuild money\n",
    "        yield simulation.process(search.rebuild_money(simulation, human_capital, \n",
    "                                                        financial_capital, entity, \n",
    "                                                        money_patience, write_story))\n",
    "        \n",
    "        if entity.gave_up_money_search == True:\n",
    "                return\n",
    "        \n",
    "        # If home is completely damaged, search for a new home to purchase.\n",
    "        if entity.residence.damage_state == 'Complete':\n",
    "            \n",
    "            home_patience = 550  # days until give up the search for a new home\n",
    "\n",
    "            search_outcome = yield simulation.process(search.permanent_housing(simulation, entity, home_patience, vacant_stock, human_capital, write_story))\n",
    "\n",
    "            if entity.gave_up_home_search == True:\n",
    "                return\n",
    "\n",
    "        if entity.residence.damage_state != 'None':\n",
    "            yield simulation.process(request.engineering_assessment(simulation, human_capital, entity, write_story))\n",
    "\n",
    "            yield simulation.process(request.permit(simulation, human_capital, entity, write_story))\n",
    "\n",
    "            yield simulation.process(rebuild.home(simulation, human_capital, financial_capital, entity, write_story))\n",
    "               \n",
    "   "
   ]
  },
  {
   "cell_type": "code",
<<<<<<< HEAD
   "execution_count": 143,
=======
   "execution_count": 36,
>>>>>>> scotts-branch
   "metadata": {
    "collapsed": false
   },
   "outputs": [],
   "source": [
    "# Initiate a master process for each household to be modeled in the simulation\n",
    "for i in range(len(households)):\n",
    "    simulation.process(master_process(simulation, human_capital, financial_capital, households[i], write_story))"
   ]
  },
  {
   "cell_type": "markdown",
   "metadata": {},
   "source": [
    "__Can do some cool stuff with the vacant housing stock.__"
   ]
  },
  {
   "cell_type": "code",
<<<<<<< HEAD
   "execution_count": 144,
=======
   "execution_count": 37,
>>>>>>> scotts-branch
   "metadata": {
    "collapsed": false
   },
   "outputs": [],
   "source": [
    "# Do inspections on all of the vacant homes in the housing stock\n",
    "for home in vacant_stock.items:\n",
    "    simulation.process(request.inspection(simulation, human_capital, home))\n",
    "\n",
    "# Schedule an event that randomly fixes moderately or completely damaged homes in the vacant housing stock\n",
    "# with probability = fix_probability\n",
    "fix_probability = 1.0\n",
    "fix_schedule = 100\n",
    "\n",
    "# start_delayed(simulation, rebuild.stock(simulation, housing_stock, fix_probability), fix_schedule)"
   ]
  },
  {
   "cell_type": "code",
<<<<<<< HEAD
   "execution_count": 145,
=======
   "execution_count": 38,
>>>>>>> scotts-branch
   "metadata": {
    "collapsed": false,
    "scrolled": true
   },
   "outputs": [],
   "source": [
    "simulation.run()"
   ]
  },
  {
   "cell_type": "markdown",
   "metadata": {},
   "source": [
    "## Outputs"
   ]
  },
  {
   "cell_type": "markdown",
   "metadata": {},
   "source": [
    "__Summary statistics__"
   ]
  },
  {
   "cell_type": "code",
<<<<<<< HEAD
   "execution_count": 146,
=======
   "execution_count": 39,
>>>>>>> scotts-branch
   "metadata": {
    "collapsed": false
   },
   "outputs": [
    {
     "name": "stdout",
     "output_type": "stream",
     "text": [
<<<<<<< HEAD
      "1 out of 4 households suffered no damage to their homes.\n",
      " 2 out of 4 households rebuilt or repaired their damaged home.\n",
      " 0 out of 4 households gave up searching for money.\n",
      " 0 out of 4 households decided to find a new home.\n",
=======
      "0 out of 4 households suffered no damage to their homes.\n",
      " 3 out of 4 households rebuilt or repaired their damaged home.\n",
      " 0 out of 4 households gave up searching for money.\n",
      " 1 out of 4 households decided to find a new home.\n",
>>>>>>> scotts-branch
      " 1 out of 4 households gave up searching for a home.\n"
     ]
    }
   ],
   "source": [
    "num_undamaged = 0\n",
    "num_rebuilt = 0\n",
    "num_gave_up_money_search = 0\n",
    "num_relocated = 0\n",
    "num_gave_up_home_search = 0\n",
    "\n",
    "for household in households:\n",
    "    if household.money_search_start == 0.0: num_undamaged += 1\n",
    "    if household.home_get > 0.0: num_rebuilt += 1\n",
    "    if household.gave_up_money_search: num_gave_up_money_search += 1\n",
    "    if household.home_search_stop > 0.0: num_relocated += 1\n",
    "    if household.gave_up_home_search: num_gave_up_home_search += 1\n",
    "        \n",
    "print('{0} out of {1} households suffered no damage to their homes.\\n'.format(num_undamaged, len(households)),\n",
    "      '{0} out of {1} households rebuilt or repaired their damaged home.\\n'.format(num_rebuilt, len(households)),\n",
    "        '{0} out of {1} households gave up searching for money.\\n'.format(num_gave_up_money_search, len(households)),\n",
    "        '{0} out of {1} households decided to find a new home.\\n'.format(num_relocated, len(households)),\n",
    "        '{0} out of {1} households gave up searching for a home.'.format(num_gave_up_home_search, len(households))\n",
    "      )"
   ]
  },
  {
   "cell_type": "markdown",
   "metadata": {},
   "source": [
    "__Household stories__"
   ]
  },
  {
   "cell_type": "code",
<<<<<<< HEAD
   "execution_count": 147,
=======
   "execution_count": 40,
>>>>>>> scotts-branch
   "metadata": {
    "collapsed": false
   },
   "outputs": [
    {
     "data": {
      "text/plain": [
<<<<<<< HEAD
       "['Alfred lives in a 1 bedroom Mobile Home at 62 That St worth $100,000. ',\n",
       " \"Alfred's house was inspected 10 days after the event and suffered $0 of damage.\"]"
      ]
     },
     "execution_count": 147,
=======
       "['Alfred owns and lives in a 1 bedroom mobile home at 62 That St worth $100,000. ',\n",
       " \"Alfred's mobile home was inspected 20 days after the event and suffered $100,000 of damage.\",\n",
       " 'Alfred submitted a request to FEMA 20 days after the event. ',\n",
       " 'Alfred received $100,000 from FEMA 40 days after the event. ',\n",
       " 'It took Alfred 20 days to receive enough financial assistance and now has $100,000 to rebuild. ',\n",
       " 'Alfred started searching for a new mobile home 40 days after the event. ',\n",
       " 'On day 40, Alfred purchased a mobile home at 100 New Ave with a value of $99,999 and $2,000 of damage. ',\n",
       " 'Alfred received an engineering assessment 65 days after the event. ',\n",
       " 'Alfred received permit approval 100 days after the event. ',\n",
       " \"Alfred's mobile home was repaired 102 days after the event, taking 2 days to repair. \"]"
      ]
     },
     "execution_count": 40,
>>>>>>> scotts-branch
     "metadata": {},
     "output_type": "execute_result"
    }
   ],
   "source": [
    "households[0].story"
   ]
  },
  {
   "cell_type": "code",
<<<<<<< HEAD
   "execution_count": 148,
=======
   "execution_count": 41,
>>>>>>> scotts-branch
   "metadata": {
    "collapsed": false
   },
   "outputs": [
    {
     "data": {
      "text/plain": [
<<<<<<< HEAD
       "['Bruce lives in a 6 bedroom Single Family Dwelling at 720 This Rd worth $10,000,000. ',\n",
       " \"Bruce's house was inspected 10 days after the event and suffered $200,000 of damage.\",\n",
       " 'Bruce submitted an insurance claim 10 days after the event. ',\n",
       " 'Bruce received a $200,000 insurance payout 25 days after the event. ',\n",
       " 'It took Bruce 15 days to receive enough financial assistance and now has $1,200,000 to rebuild. ',\n",
       " 'Bruce received an engineering assessment 50 days after the event. ',\n",
       " 'Bruce received permit approval 85 days after the event. ',\n",
       " \"Bruce's home was repaired 87 days after the event, taking 2 days to repair. \"]"
      ]
     },
     "execution_count": 148,
=======
       "['Bruce owns and lives in a 5 bedroom single family dwelling at 720 This Rd worth $10,000,000. ',\n",
       " \"Bruce's single family dwelling was inspected 20 days after the event and suffered $200,000 of damage.\",\n",
       " 'Bruce submitted an insurance claim 20 days after the event. ',\n",
       " 'Bruce received a $200,000 insurance payout 35 days after the event. ',\n",
       " 'It took Bruce 15 days to receive enough financial assistance and now has $1,200,000 to rebuild. ',\n",
       " 'Bruce received an engineering assessment 60 days after the event. ',\n",
       " 'Bruce received permit approval 95 days after the event. ',\n",
       " \"Bruce's single family dwelling was repaired 97 days after the event, taking 2 days to repair. \"]"
      ]
     },
     "execution_count": 41,
>>>>>>> scotts-branch
     "metadata": {},
     "output_type": "execute_result"
    }
   ],
   "source": [
    "households[1].story"
   ]
  },
  {
   "cell_type": "code",
<<<<<<< HEAD
   "execution_count": 149,
=======
   "execution_count": 42,
>>>>>>> scotts-branch
   "metadata": {
    "collapsed": false
   },
   "outputs": [
    {
     "data": {
      "text/plain": [
<<<<<<< HEAD
       "['Selena lives in a 0 bedroom Multi Family Dwelling at 1001 Other Ave worth $10,000. ',\n",
       " \"Selena's house was inspected 10 days after the event and suffered $10,000 of damage.\",\n",
       " 'Selena submitted a request to FEMA 10 days after the event. ',\n",
       " 'Selena received $10,000 from FEMA 30 days after the event. ',\n",
       " 'It took Selena 20 days to receive enough financial assistance and now has $10,100 to rebuild. ',\n",
       " 'Selena started searching for a Multi Family Dwelling with a value under $10,000 30 days after the event. ',\n",
       " 'On day 580, after a 550 day search, Selena gave up looking for a new home in the local area. ']"
      ]
     },
     "execution_count": 149,
=======
       "['Selena owns and lives in a 0 bedroom single family dwelling at 1001 Other Ave worth $10,000. ',\n",
       " \"Selena's single family dwelling was inspected 20 days after the event and suffered $10,000 of damage.\",\n",
       " 'Selena submitted a request to FEMA 20 days after the event. ',\n",
       " 'Selena received $10,000 from FEMA 40 days after the event. ',\n",
       " 'It took Selena 20 days to receive enough financial assistance and now has $10,100 to rebuild. ',\n",
       " 'Selena started searching for a new single family dwelling 40 days after the event. ',\n",
       " 'On day 590, after a 550 day search, Selena gave up looking for a new home in the local area. ']"
      ]
     },
     "execution_count": 42,
>>>>>>> scotts-branch
     "metadata": {},
     "output_type": "execute_result"
    }
   ],
   "source": [
    "households[2].story"
   ]
  },
  {
   "cell_type": "code",
<<<<<<< HEAD
   "execution_count": 150,
=======
   "execution_count": 43,
>>>>>>> scotts-branch
   "metadata": {
    "collapsed": false,
    "scrolled": false
   },
   "outputs": [
    {
     "data": {
      "text/plain": [
<<<<<<< HEAD
       "['Fish lives in a 4 bedroom Single Family Dwelling at 26000 Out There Lane worth $800,000. ',\n",
       " \"Fish's house was inspected 10 days after the event and suffered $80,000 of damage.\",\n",
       " 'Fish submitted an insurance claim 10 days after the event. ',\n",
       " 'Fish received a $80,000 insurance payout 25 days after the event. ',\n",
       " 'It took Fish 15 days to receive enough financial assistance and now has $81,000 to rebuild. ',\n",
       " 'Fish received an engineering assessment 75 days after the event. ',\n",
       " 'Fish received permit approval 110 days after the event. ',\n",
       " \"Fish's home was repaired 140 days after the event, taking 30 days to repair. \"]"
      ]
     },
     "execution_count": 150,
=======
       "['Fish owns and lives in a 4 bedroom single family dwelling at 26000 Out There Lane worth $800,000. ',\n",
       " \"Fish's single family dwelling was inspected 20 days after the event and suffered $80,000 of damage.\",\n",
       " 'Fish submitted an insurance claim 20 days after the event. ',\n",
       " 'Fish received a $80,000 insurance payout 35 days after the event. ',\n",
       " 'It took Fish 15 days to receive enough financial assistance and now has $81,000 to rebuild. ',\n",
       " 'Fish received an engineering assessment 60 days after the event. ',\n",
       " 'Fish received permit approval 95 days after the event. ',\n",
       " \"Fish's single family dwelling was repaired 125 days after the event, taking 30 days to repair. \"]"
      ]
     },
     "execution_count": 43,
>>>>>>> scotts-branch
     "metadata": {},
     "output_type": "execute_result"
    }
   ],
   "source": [
    "households[3].story"
   ]
  },
  {
   "cell_type": "code",
   "execution_count": null,
   "metadata": {
    "collapsed": false
   },
   "outputs": [],
   "source": []
  },
  {
   "cell_type": "code",
   "execution_count": null,
   "metadata": {
    "collapsed": true
   },
   "outputs": [],
   "source": []
  }
 ],
 "metadata": {
  "anaconda-cloud": {},
  "kernelspec": {
   "display_name": "Python [default]",
   "language": "python",
   "name": "python3"
  },
  "language_info": {
   "codemirror_mode": {
    "name": "ipython",
    "version": 3
   },
   "file_extension": ".py",
   "mimetype": "text/x-python",
   "name": "python",
   "nbconvert_exporter": "python",
   "pygments_lexer": "ipython3",
   "version": "3.5.2"
  }
 },
 "nbformat": 4,
 "nbformat_minor": 0
}
